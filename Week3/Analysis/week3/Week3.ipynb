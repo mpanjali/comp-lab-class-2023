{
 "cells": [
  {
   "cell_type": "code",
   "execution_count": 14,
   "metadata": {
    "scrolled": false
   },
   "outputs": [
    {
     "name": "stdout",
     "output_type": "stream",
     "text": [
      "/home/mp6576/comp-class-2023/comp-lab-class-2023/Week3/Data\n"
     ]
    }
   ],
   "source": [
    "cd /home/mp6576/comp-class-2023/comp-lab-class-2023/Week3/Data/"
   ]
  },
  {
   "cell_type": "code",
   "execution_count": 15,
   "metadata": {
    "scrolled": false
   },
   "outputs": [],
   "source": [
    "#displaying data from processed lysozyme pdb file -> I chose to manually remove the residues with \"HOH\" in the PDB file via TextEdit\n",
    "filename = \"1aki.pdb\"\n",
    "data = open(filename).read()\n",
    "#print(data)"
   ]
  },
  {
   "cell_type": "code",
   "execution_count": 16,
   "metadata": {
    "scrolled": false
   },
   "outputs": [
    {
     "name": "stderr",
     "output_type": "stream",
     "text": [
      "/bin/sh: 1: gmx: not found\n"
     ]
    },
    {
     "data": {
      "text/plain": [
       "CompletedProcess(args='gmx pdb2gmx -f your_pdb_file.pdb -o output.gro -p output.top', returncode=127)"
      ]
     },
     "execution_count": 16,
     "metadata": {},
     "output_type": "execute_result"
    }
   ],
   "source": [
    "import subprocess\n",
    "\n",
    "# Replace 'your_pdb_file.pdb' with the actual name of your PDB file\n",
    "pdb_file = 'your_pdb_file.pdb'\n",
    "\n",
    "# Command to execute pdb2gmx\n",
    "command = f'gmx pdb2gmx -f {pdb_file} -o output.gro -p output.top'\n",
    "\n",
    "# Run the command in the shell\n",
    "subprocess.run(command, shell=True)"
   ]
  },
  {
   "cell_type": "code",
   "execution_count": 183,
   "metadata": {
    "scrolled": false
   },
   "outputs": [],
   "source": [
    "#Below is my first attempt at just getting the total number of amino acid residues from the data I requested to be read from the pdb file. \n",
    "   #The issue with this attempt is the dataskiprow command was not working for me at this point. So I just had the commands applied to the pdb file directly rather than its data.\n",
    "\n",
    "#Initialize a counter for amino acids\n",
    "#amino_acid_count = 0\n",
    "\n",
    "#Initialize an empty list to store amino acid data\n",
    "#amino_acids = []\n",
    "\n",
    "#Iterate through the lines in the PDB file\n",
    "#for line in lines:\n",
    "    #if line.startswith(\"ATOM\") or line.startswith(\"HETATM\"):\n",
    "        #Parse the line and extract relevant information\n",
    "        #amino_acid = line[17:20].strip()  # Assuming amino acid name is in columns 18-20\n",
    "        #amino_acids.append(amino_acid)\n",
    "        #amino_acid_count += 1\n",
    "\n",
    "#Now, 'amino_acid_count' contains the number of amino acids, and 'amino_acids' contains the list of amino acid names\n",
    "#print(\"Number of amino acids:\", amino_acid_count)\n",
    "\n",
    "#num_amino_acids = data_skiprows[4]\n",
    "#print(num_amino_acids)"
   ]
  },
  {
   "cell_type": "code",
   "execution_count": 184,
   "metadata": {},
   "outputs": [
    {
     "name": "stdout",
     "output_type": "stream",
     "text": [
      "Total number of amino acid residues: 134\n"
     ]
    }
   ],
   "source": [
    "#Just as an optional step, I wanted to calculate the total number of residues\n",
    "\n",
    "#Calculating total number of amino acid residues from pdb file and getting that number \"printed\"\n",
    "n_residues = len(set(res.resSeq for res in trajectory.top.residues))\n",
    "\n",
    "print(f'Total number of amino acid residues: {n_residues}')"
   ]
  },
  {
   "cell_type": "code",
   "execution_count": 185,
   "metadata": {},
   "outputs": [
    {
     "name": "stdout",
     "output_type": "stream",
     "text": [
      "Total number of helical amino acid residues: 18\n"
     ]
    }
   ],
   "source": [
    "#This is my final code for getting total number of alpha helical residues\n",
    "\n",
    "#We need to first use dssp, or define secondary structure of proteins, since alpha helices are a secondary structure element\n",
    "dssp = md.compute_dssp(trajectory)\n",
    "\n",
    "#pdb specifically annotates helical structures as H, G, I\n",
    "helix_codes = ['H', 'G', 'I']\n",
    "\n",
    "#Initialize a counter for helical residues\n",
    "helical_residue_count = 0\n",
    "\n",
    "#Loop through each frame in the trajectory\n",
    "for frame in dssp:\n",
    "    #Count the number of helical residues in this frame\n",
    "    helical_residue_count += sum(1 for code in frame if code in helix_codes)\n",
    "\n",
    "print(f'Total number of helical amino acid residues: {helical_residue_count}')"
   ]
  }
 ],
 "metadata": {
  "kernelspec": {
   "display_name": "lab_env_2023",
   "language": "python",
   "name": "lab_env_2023"
  },
  "language_info": {
   "codemirror_mode": {
    "name": "ipython",
    "version": 3
   },
   "file_extension": ".py",
   "mimetype": "text/x-python",
   "name": "python",
   "nbconvert_exporter": "python",
   "pygments_lexer": "ipython3",
   "version": "3.9.12"
  }
 },
 "nbformat": 4,
 "nbformat_minor": 4
}
