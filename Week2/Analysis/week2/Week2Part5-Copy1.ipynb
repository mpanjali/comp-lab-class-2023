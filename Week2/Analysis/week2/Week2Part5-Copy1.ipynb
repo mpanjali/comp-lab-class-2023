{
 "cells": [
  {
   "cell_type": "code",
   "execution_count": 16,
   "metadata": {
    "scrolled": false
   },
   "outputs": [
    {
     "name": "stdout",
     "output_type": "stream",
     "text": [
      "/home/mp6576/comp-class-2023/comp-lab-class-2023/Week2/Data\n"
     ]
    }
   ],
   "source": [
    "cd /home/mp6576/comp-class-2023/comp-lab-class-2023/Week2/Data/"
   ]
  },
  {
   "cell_type": "code",
   "execution_count": 17,
   "metadata": {
    "scrolled": false
   },
   "outputs": [
    {
     "name": "stdout",
     "output_type": "stream",
     "text": [
      "<mdtraj.Trajectory with 1 frames, 1405 atoms, 134 residues, and unitcells>\n"
     ]
    }
   ],
   "source": [
    "#https://mdtraj.org/1.6.2/examples/hbonds.html\n",
    "import mdtraj as md\n",
    "\n",
    "t = md.load_pdb('1UBQ_processed.pdb')\n",
    "print(t)"
   ]
  },
  {
   "cell_type": "code",
   "execution_count": 18,
   "metadata": {
    "scrolled": true
   },
   "outputs": [
    {
     "name": "stdout",
     "output_type": "stream",
     "text": [
      "MET1-N -- VAL17-O\n",
      "ILE3-N -- LEU15-O\n",
      "PHE4-N -- SER65-O\n",
      "VAL5-N -- ILE13-O\n",
      "LYS6-N -- LEU67-O\n",
      "THR7-N -- LYS11-O\n",
      "THR9-N -- THR7-OG1\n",
      "GLY10-N -- THR7-O\n",
      "ILE13-N -- VAL5-O\n",
      "LEU15-N -- ILE3-O\n",
      "VAL17-N -- MET1-O\n",
      "GLU18-N -- ASP21-OD2\n",
      "ASP21-N -- GLU18-O\n",
      "ILE23-N -- ARG54-O\n",
      "GLU24-N -- ASP52-O\n",
      "ASN25-N -- THR22-OG1\n",
      "ASN25-N -- THR22-O\n",
      "VAL26-N -- THR22-O\n",
      "LYS27-N -- ILE23-O\n",
      "LYS27-NZ -- ASP52-OD2\n",
      "ALA28-N -- GLU24-O\n",
      "LYS29-N -- ASN25-O\n",
      "LYS29-NZ -- GLU16-O\n",
      "ILE30-N -- VAL26-O\n",
      "GLN31-N -- LYS27-O\n",
      "ASP32-N -- ALA28-O\n",
      "LYS33-N -- LYS29-O\n",
      "GLU34-N -- ILE30-O\n",
      "GLY35-N -- GLN31-O\n",
      "GLN40-N -- PRO37-O\n",
      "GLN41-N -- PRO38-O\n",
      "GLN41-NE2 -- ILE36-O\n",
      "GLN41-NE2 -- LYS27-O\n",
      "ARG42-N -- VAL70-O\n",
      "ARG42-NE -- GLN49-NE2\n",
      "ILE44-N -- HIS68-O\n",
      "PHE45-N -- LYS48-O\n",
      "LYS48-N -- PHE45-O\n",
      "LEU50-N -- LEU43-O\n",
      "GLU51-N -- TYR59-OH\n",
      "ARG54-N -- GLU51-O\n",
      "THR55-N -- ASP58-OD1\n",
      "LEU56-N -- ASP21-O\n",
      "SER57-N -- PRO19-O\n",
      "ASP58-N -- THR55-OG1\n",
      "ASP58-N -- THR55-O\n",
      "TYR59-N -- LEU56-O\n",
      "ASN60-N -- SER57-O\n",
      "ILE61-N -- LEU56-O\n",
      "GLU64-N -- GLN2-O\n",
      "SER65-N -- GLN62-O\n",
      "LEU67-N -- PHE4-O\n",
      "HIS68-N -- ILE44-O\n",
      "LEU69-N -- LYS6-O\n",
      "VAL70-N -- ARG42-O\n",
      "ARG72-N -- GLN40-O\n",
      "ARG72-NH2 -- GLN41-O\n"
     ]
    }
   ],
   "source": [
    "hbonds = md.baker_hubbard(t, periodic=False)\n",
    "label = lambda hbond : '%s -- %s' % (t.topology.atom(hbond[0]), t.topology.atom(hbond[2]))\n",
    "for hbond in hbonds:\n",
    "    print(label(hbond))"
   ]
  },
  {
   "cell_type": "code",
   "execution_count": 19,
   "metadata": {
    "scrolled": true
   },
   "outputs": [
    {
     "name": "stdout",
     "output_type": "stream",
     "text": [
      "Number of Hydrogen Bonds: 57\n"
     ]
    }
   ],
   "source": [
    "num_hydrogen_bonds = len(hbonds)\n",
    "\n",
    "print(f\"Number of Hydrogen Bonds: {num_hydrogen_bonds}\")"
   ]
  },
  {
   "cell_type": "code",
   "execution_count": null,
   "metadata": {},
   "outputs": [],
   "source": []
  }
 ],
 "metadata": {
  "kernelspec": {
   "display_name": "lab_env_2023",
   "language": "python",
   "name": "lab_env_2023"
  },
  "language_info": {
   "codemirror_mode": {
    "name": "ipython",
    "version": 3
   },
   "file_extension": ".py",
   "mimetype": "text/x-python",
   "name": "python",
   "nbconvert_exporter": "python",
   "pygments_lexer": "ipython3",
   "version": "3.9.12"
  }
 },
 "nbformat": 4,
 "nbformat_minor": 4
}
