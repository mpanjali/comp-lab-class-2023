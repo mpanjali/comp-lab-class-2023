{
 "cells": [
  {
   "cell_type": "code",
   "execution_count": 9,
   "id": "1151e39e-c6a0-4e5e-b1dc-cfe06d604a8a",
   "metadata": {
    "scrolled": true
   },
   "outputs": [
    {
     "name": "stdout",
     "output_type": "stream",
     "text": [
      "SCF Energy:  -230.71227965339645\n",
      "HOMO:  -0.32848531433465833\n",
      "LUMO:  0.1456523272322437\n",
      "SCF Total Dipole Moment: 0.0\n"
     ]
    }
   ],
   "source": [
    "from psikit import Psikit\n",
    "pk = Psikit(debug=True, threads=1, memory=12)\n",
    "pk.read_from_smiles(\"c1ccccc1\")\n",
    "print(\"SCF Energy: \", pk.energy())\n",
    "print(\"HOMO: \", pk.HOMO)\n",
    "print(\"LUMO: \", pk.LUMO)\n",
    "x, y, z, total = pk.dipolemoment\n",
    "print(\"SCF Total Dipole Moment: {}\".format(total))"
   ]
  },
  {
   "cell_type": "code",
   "execution_count": 11,
   "id": "4cbc4164-d6a3-49ea-83aa-8bb2b1311cc1",
   "metadata": {},
   "outputs": [
    {
     "name": "stdout",
     "output_type": "stream",
     "text": [
      "Optimizer: Optimization complete!\n",
      "Optimized SCF Energy:  -230.71352354227963\n"
     ]
    }
   ],
   "source": [
    "pk = Psikit(debug=True, threads=1, memory=12)\n",
    "pk.read_from_smiles(\"c1ccccc1\")\n",
    "print(\"Optimized SCF Energy: \", pk.optimize())"
   ]
  },
  {
   "cell_type": "code",
   "execution_count": 13,
   "id": "666834bd-c898-4134-8ba7-02ef27e5683c",
   "metadata": {},
   "outputs": [
    {
     "name": "stdout",
     "output_type": "stream",
     "text": [
      "Optimizer: Optimization complete!\n",
      "C ESP:-0.30192358536718811\tRESP:-0.28510565961470691\n",
      "C ESP:0.80270907804841363\tRESP:0.80270907804841352\n",
      "O ESP:-0.6007794872079093\tRESP:-0.60077948720790908\n",
      "O ESP:-0.66154674652109946\tRESP:-0.66154674652109957\n",
      "H ESP:0.10246825679040095\tRESP:0.096862281539573908\n",
      "H ESP:0.10246825679040095\tRESP:0.096862281539573908\n",
      "H ESP:0.10246825679040095\tRESP:0.096862281539573908\n",
      "H ESP:0.4541359706765804\tRESP:0.45413597067658046\n",
      "Optimizer: Optimization complete!\n"
     ]
    },
    {
     "data": {
      "text/plain": [
       "array([-0.29650614,  0.33255035, -0.34971447, -0.29133877,  0.12350243,\n",
       "        0.12668122,  0.11903852,  0.23578687])"
      ]
     },
     "execution_count": 13,
     "metadata": {},
     "output_type": "execute_result"
    }
   ],
   "source": [
    "# REF http://ambermd.org/tutorials/advanced/tutorial1/files/resp_paper_jacs.pdf\n",
    "pk = Psikit(debug=True, threads=1, memory=12)\n",
    "pk.read_from_smiles(\"CC(=O)O\")\n",
    "pk.optimize(maxiter=100)  # Adjusting maximum iterations because received convergence error (could not converge geometry optimization in 8 iterations)\n",
    "\n",
    "pk.calc_resp_charges()\n",
    "\n",
    "for atom in pk.mol.GetAtoms(): \n",
    "    print(atom.GetSymbol(), \"ESP:{}\\tRESP:{}\".format(atom.GetProp(\"EP\"), atom.GetProp(\"RESP\"))) \n",
    "    \n",
    "### Compute Mulliken charges and Lowdin charges\n",
    "\n",
    "pk = Psikit(debug=True, threads=1, memory=12)\n",
    "pk.read_from_smiles(\"CC(=O)O\")\n",
    "pk.optimize() # or pk.energy()\n",
    "\n",
    "pk.calc_mulliken_charges()\n",
    "\n",
    "pk.calc_lowdin_charges()"
   ]
  },
  {
   "cell_type": "code",
   "execution_count": 15,
   "id": "bb1e2090-7b8f-406f-98a4-8398c58fd6b9",
   "metadata": {},
   "outputs": [
    {
     "name": "stdout",
     "output_type": "stream",
     "text": [
      "Optimizer: Optimization complete!\n"
     ]
    },
    {
     "data": {
      "text/plain": [
       "-227.89204563105767"
      ]
     },
     "execution_count": 15,
     "metadata": {},
     "output_type": "execute_result"
    }
   ],
   "source": [
    "from psikit import Psikit\n",
    "pk = Psikit(debug=True, threads=1, memory=12)\n",
    "pk.read_from_smiles(\"c1ccccc1\")\n",
    "pk.optimize(basis_sets=\"scf/sto-3g\")\n",
    "#pk.view_on_pymol() # launch pymol as a RPC server in advance, just type \"pymol -R\""
   ]
  }
 ],
 "metadata": {
  "kernelspec": {
   "display_name": "lab_env_2023",
   "language": "python",
   "name": "lab_env_2023"
  },
  "language_info": {
   "codemirror_mode": {
    "name": "ipython",
    "version": 3
   },
   "file_extension": ".py",
   "mimetype": "text/x-python",
   "name": "python",
   "nbconvert_exporter": "python",
   "pygments_lexer": "ipython3",
   "version": "3.9.12"
  }
 },
 "nbformat": 4,
 "nbformat_minor": 5
}
